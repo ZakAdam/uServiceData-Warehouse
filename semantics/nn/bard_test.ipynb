{
 "cells": [
  {
   "cell_type": "code",
   "execution_count": 1,
   "metadata": {},
   "outputs": [
    {
     "name": "stdout",
     "output_type": "stream",
     "text": [
      "Defaulting to user installation because normal site-packages is not writeable\n",
      "Collecting bardapi\n",
      "  Downloading bardapi-0.1.38-py3-none-any.whl (39 kB)\n",
      "Requirement already satisfied: requests in /usr/lib/python3/dist-packages (from bardapi) (2.25.1)\n",
      "Collecting httpx[http2]>=0.20.0\n",
      "  Downloading httpx-0.25.1-py3-none-any.whl (75 kB)\n",
      "\u001b[2K     \u001b[90m━━━━━━━━━━━━━━━━━━━━━━━━━━━━━━━━━━━━━━━\u001b[0m \u001b[32m75.0/75.0 KB\u001b[0m \u001b[31m288.1 kB/s\u001b[0m eta \u001b[36m0:00:00\u001b[0ma \u001b[36m0:00:01\u001b[0m\n",
      "\u001b[?25hCollecting google-cloud-translate\n",
      "  Downloading google_cloud_translate-3.12.1-py2.py3-none-any.whl (128 kB)\n",
      "\u001b[2K     \u001b[90m━━━━━━━━━━━━━━━━━━━━━━━━━━━━━━━━━━━━━\u001b[0m \u001b[32m128.9/128.9 KB\u001b[0m \u001b[31m674.3 kB/s\u001b[0m eta \u001b[36m0:00:00\u001b[0ma \u001b[36m0:00:01\u001b[0m\n",
      "\u001b[?25hRequirement already satisfied: colorama in /usr/lib/python3/dist-packages (from bardapi) (0.4.4)\n",
      "Collecting browser-cookie3\n",
      "  Downloading browser_cookie3-0.19.1-py3-none-any.whl (14 kB)\n",
      "Collecting langdetect\n",
      "  Downloading langdetect-1.0.9.tar.gz (981 kB)\n",
      "\u001b[2K     \u001b[90m━━━━━━━━━━━━━━━━━━━━━━━━━━━━━━━━━━━━━━━\u001b[0m \u001b[32m981.5/981.5 KB\u001b[0m \u001b[31m1.0 MB/s\u001b[0m eta \u001b[36m0:00:00\u001b[0m00:01\u001b[0m00:01\u001b[0m\n",
      "\u001b[?25h  Preparing metadata (setup.py) ... \u001b[?25ldone\n",
      "\u001b[?25hCollecting deep-translator\n",
      "  Downloading deep_translator-1.11.4-py3-none-any.whl (42 kB)\n",
      "\u001b[2K     \u001b[90m━━━━━━━━━━━━━━━━━━━━━━━━━━━━━━━━━━━━━━━\u001b[0m \u001b[32m42.3/42.3 KB\u001b[0m \u001b[31m780.7 kB/s\u001b[0m eta \u001b[36m0:00:00\u001b[0m \u001b[36m0:00:01\u001b[0m\n",
      "\u001b[?25hCollecting anyio\n",
      "  Downloading anyio-4.0.0-py3-none-any.whl (83 kB)\n",
      "\u001b[2K     \u001b[90m━━━━━━━━━━━━━━━━━━━━━━━━━━━━━━━━━━━━━━━━\u001b[0m \u001b[32m83.1/83.1 KB\u001b[0m \u001b[31m1.0 MB/s\u001b[0m eta \u001b[36m0:00:00\u001b[0ma \u001b[36m0:00:01\u001b[0m\n",
      "\u001b[?25hRequirement already satisfied: idna in /usr/lib/python3/dist-packages (from httpx[http2]>=0.20.0->bardapi) (3.3)\n",
      "Collecting httpcore\n",
      "  Downloading httpcore-1.0.1-py3-none-any.whl (76 kB)\n",
      "\u001b[2K     \u001b[90m━━━━━━━━━━━━━━━━━━━━━━━━━━━━━━━━━━━━━━━━\u001b[0m \u001b[32m76.9/76.9 KB\u001b[0m \u001b[31m1.2 MB/s\u001b[0m eta \u001b[36m0:00:00\u001b[0ma \u001b[36m0:00:01\u001b[0m\n",
      "\u001b[?25hRequirement already satisfied: sniffio in /home/adam/.local/lib/python3.10/site-packages (from httpx[http2]>=0.20.0->bardapi) (1.3.0)\n",
      "Requirement already satisfied: certifi in /home/adam/.local/lib/python3.10/site-packages (from httpx[http2]>=0.20.0->bardapi) (2022.12.7)\n",
      "Collecting h2<5,>=3\n",
      "  Downloading h2-4.1.0-py3-none-any.whl (57 kB)\n",
      "\u001b[2K     \u001b[90m━━━━━━━━━━━━━━━━━━━━━━━━━━━━━━━━━━━━━━━\u001b[0m \u001b[32m57.5/57.5 KB\u001b[0m \u001b[31m766.4 kB/s\u001b[0m eta \u001b[36m0:00:00\u001b[0m \u001b[36m0:00:01\u001b[0m\n",
      "\u001b[?25hCollecting lz4\n",
      "  Downloading lz4-4.3.2-cp310-cp310-manylinux_2_17_x86_64.manylinux2014_x86_64.whl (1.3 MB)\n",
      "\u001b[2K     \u001b[90m━━━━━━━━━━━━━━━━━━━━━━━━━━━━━━━━━━━━━━━━\u001b[0m \u001b[32m1.3/1.3 MB\u001b[0m \u001b[31m919.1 kB/s\u001b[0m eta \u001b[36m0:00:00\u001b[0m00:01\u001b[0m:01\u001b[0m0m\n",
      "\u001b[?25hCollecting pycryptodomex\n",
      "  Downloading pycryptodomex-3.19.0-cp35-abi3-manylinux_2_17_x86_64.manylinux2014_x86_64.whl (2.1 MB)\n",
      "\u001b[2K     \u001b[90m━━━━━━━━━━━━━━━━━━━━━━━━━━━━━━━━━━━━━━━━\u001b[0m \u001b[32m2.1/2.1 MB\u001b[0m \u001b[31m938.3 kB/s\u001b[0m eta \u001b[36m0:00:00\u001b[0m00:01\u001b[0m00:01\u001b[0m\n",
      "\u001b[?25hRequirement already satisfied: jeepney in /usr/lib/python3/dist-packages (from browser-cookie3->bardapi) (0.7.1)\n",
      "Collecting beautifulsoup4<5.0.0,>=4.9.1\n",
      "  Downloading beautifulsoup4-4.12.2-py3-none-any.whl (142 kB)\n",
      "\u001b[2K     \u001b[90m━━━━━━━━━━━━━━━━━━━━━━━━━━━━━━━━━━━━━\u001b[0m \u001b[32m143.0/143.0 KB\u001b[0m \u001b[31m834.4 kB/s\u001b[0m eta \u001b[36m0:00:00\u001b[0ma \u001b[36m0:00:01\u001b[0m\n",
      "\u001b[?25hCollecting google-cloud-core<3.0.0dev,>=1.4.4\n",
      "  Downloading google_cloud_core-2.3.3-py2.py3-none-any.whl (29 kB)\n",
      "Requirement already satisfied: protobuf!=3.20.0,!=3.20.1,!=4.21.0,!=4.21.1,!=4.21.2,!=4.21.3,!=4.21.4,!=4.21.5,<5.0.0dev,>=3.19.5 in /home/adam/.local/lib/python3.10/site-packages (from google-cloud-translate->bardapi) (4.22.0)\n",
      "Collecting google-api-core[grpc]!=2.0.*,!=2.1.*,!=2.10.*,!=2.2.*,!=2.3.*,!=2.4.*,!=2.5.*,!=2.6.*,!=2.7.*,!=2.8.*,!=2.9.*,<3.0.0dev,>=1.34.0\n",
      "  Downloading google_api_core-2.13.0-py3-none-any.whl (122 kB)\n",
      "\u001b[2K     \u001b[90m━━━━━━━━━━━━━━━━━━━━━━━━━━━━━━━━━━━━━━━\u001b[0m \u001b[32m122.0/122.0 KB\u001b[0m \u001b[31m1.8 MB/s\u001b[0m eta \u001b[36m0:00:00\u001b[0ma \u001b[36m0:00:01\u001b[0m\n",
      "\u001b[?25hCollecting proto-plus<2.0.0dev,>=1.22.0\n",
      "  Downloading proto_plus-1.22.3-py3-none-any.whl (48 kB)\n",
      "\u001b[2K     \u001b[90m━━━━━━━━━━━━━━━━━━━━━━━━━━━━━━━━━━━━━━━━\u001b[0m \u001b[32m48.1/48.1 KB\u001b[0m \u001b[31m3.7 MB/s\u001b[0m eta \u001b[36m0:00:00\u001b[0m\n",
      "\u001b[?25hRequirement already satisfied: six in /home/adam/.local/lib/python3.10/site-packages (from langdetect->bardapi) (1.16.0)\n",
      "Collecting soupsieve>1.2\n",
      "  Downloading soupsieve-2.5-py3-none-any.whl (36 kB)\n",
      "Requirement already satisfied: google-auth<3.0.dev0,>=2.14.1 in /home/adam/.local/lib/python3.10/site-packages (from google-api-core[grpc]!=2.0.*,!=2.1.*,!=2.10.*,!=2.2.*,!=2.3.*,!=2.4.*,!=2.5.*,!=2.6.*,!=2.7.*,!=2.8.*,!=2.9.*,<3.0.0dev,>=1.34.0->google-cloud-translate->bardapi) (2.16.1)\n",
      "Collecting googleapis-common-protos<2.0.dev0,>=1.56.2\n",
      "  Downloading googleapis_common_protos-1.61.0-py2.py3-none-any.whl (230 kB)\n",
      "\u001b[2K     \u001b[90m━━━━━━━━━━━━━━━━━━━━━━━━━━━━━━━━━━━━━━━\u001b[0m \u001b[32m230.9/230.9 KB\u001b[0m \u001b[31m1.3 MB/s\u001b[0m eta \u001b[36m0:00:00\u001b[0ma \u001b[36m0:00:01\u001b[0m\n",
      "\u001b[?25hRequirement already satisfied: grpcio<2.0dev,>=1.33.2 in /home/adam/.local/lib/python3.10/site-packages (from google-api-core[grpc]!=2.0.*,!=2.1.*,!=2.10.*,!=2.2.*,!=2.3.*,!=2.4.*,!=2.5.*,!=2.6.*,!=2.7.*,!=2.8.*,!=2.9.*,<3.0.0dev,>=1.34.0->google-cloud-translate->bardapi) (1.51.3)\n",
      "Collecting grpcio-status<2.0.dev0,>=1.33.2\n",
      "  Downloading grpcio_status-1.59.2-py3-none-any.whl (14 kB)\n",
      "Collecting hpack<5,>=4.0\n",
      "  Downloading hpack-4.0.0-py3-none-any.whl (32 kB)\n",
      "Collecting hyperframe<7,>=6.0\n",
      "  Downloading hyperframe-6.0.1-py3-none-any.whl (12 kB)\n",
      "Requirement already satisfied: exceptiongroup>=1.0.2 in /home/adam/.local/lib/python3.10/site-packages (from anyio->httpx[http2]>=0.20.0->bardapi) (1.1.3)\n",
      "Requirement already satisfied: h11<0.15,>=0.13 in /home/adam/.local/lib/python3.10/site-packages (from httpcore->httpx[http2]>=0.20.0->bardapi) (0.14.0)\n",
      "Requirement already satisfied: cachetools<6.0,>=2.0.0 in /home/adam/.local/lib/python3.10/site-packages (from google-auth<3.0.dev0,>=2.14.1->google-api-core[grpc]!=2.0.*,!=2.1.*,!=2.10.*,!=2.2.*,!=2.3.*,!=2.4.*,!=2.5.*,!=2.6.*,!=2.7.*,!=2.8.*,!=2.9.*,<3.0.0dev,>=1.34.0->google-cloud-translate->bardapi) (5.3.0)\n",
      "Requirement already satisfied: rsa<5,>=3.1.4 in /home/adam/.local/lib/python3.10/site-packages (from google-auth<3.0.dev0,>=2.14.1->google-api-core[grpc]!=2.0.*,!=2.1.*,!=2.10.*,!=2.2.*,!=2.3.*,!=2.4.*,!=2.5.*,!=2.6.*,!=2.7.*,!=2.8.*,!=2.9.*,<3.0.0dev,>=1.34.0->google-cloud-translate->bardapi) (4.9)\n",
      "Requirement already satisfied: pyasn1-modules>=0.2.1 in /home/adam/.local/lib/python3.10/site-packages (from google-auth<3.0.dev0,>=2.14.1->google-api-core[grpc]!=2.0.*,!=2.1.*,!=2.10.*,!=2.2.*,!=2.3.*,!=2.4.*,!=2.5.*,!=2.6.*,!=2.7.*,!=2.8.*,!=2.9.*,<3.0.0dev,>=1.34.0->google-cloud-translate->bardapi) (0.2.8)\n",
      "Collecting grpcio<2.0dev,>=1.33.2\n",
      "  Downloading grpcio-1.59.2-cp310-cp310-manylinux_2_17_x86_64.manylinux2014_x86_64.whl (5.3 MB)\n",
      "\u001b[2K     \u001b[90m━━━━━━━━━━━━━━━━━━━━━━━━━━━━━━━━━━━━━━━━\u001b[0m \u001b[32m5.3/5.3 MB\u001b[0m \u001b[31m1.2 MB/s\u001b[0m eta \u001b[36m0:00:00\u001b[0m00:01\u001b[0m00:01\u001b[0m\n",
      "\u001b[?25hRequirement already satisfied: pyasn1<0.5.0,>=0.4.6 in /home/adam/.local/lib/python3.10/site-packages (from pyasn1-modules>=0.2.1->google-auth<3.0.dev0,>=2.14.1->google-api-core[grpc]!=2.0.*,!=2.1.*,!=2.10.*,!=2.2.*,!=2.3.*,!=2.4.*,!=2.5.*,!=2.6.*,!=2.7.*,!=2.8.*,!=2.9.*,<3.0.0dev,>=1.34.0->google-cloud-translate->bardapi) (0.4.8)\n",
      "Building wheels for collected packages: langdetect\n",
      "  Building wheel for langdetect (setup.py) ... \u001b[?25ldone\n",
      "\u001b[?25h  Created wheel for langdetect: filename=langdetect-1.0.9-py3-none-any.whl size=993242 sha256=67078e24df3976851fad72eedf4234930dab4d751362d88638af0177b80cb082\n",
      "  Stored in directory: /home/adam/.cache/pip/wheels/95/03/7d/59ea870c70ce4e5a370638b5462a7711ab78fba2f655d05106\n",
      "Successfully built langdetect\n",
      "Installing collected packages: soupsieve, pycryptodomex, proto-plus, lz4, langdetect, hyperframe, httpcore, hpack, grpcio, googleapis-common-protos, anyio, httpx, h2, grpcio-status, browser-cookie3, beautifulsoup4, google-api-core, deep-translator, google-cloud-core, google-cloud-translate, bardapi\n",
      "  Attempting uninstall: grpcio\n",
      "    Found existing installation: grpcio 1.51.3\n",
      "    Uninstalling grpcio-1.51.3:\n",
      "      Successfully uninstalled grpcio-1.51.3\n",
      "Successfully installed anyio-4.0.0 bardapi-0.1.38 beautifulsoup4-4.12.2 browser-cookie3-0.19.1 deep-translator-1.11.4 google-api-core-2.13.0 google-cloud-core-2.3.3 google-cloud-translate-3.12.1 googleapis-common-protos-1.61.0 grpcio-1.59.2 grpcio-status-1.59.2 h2-4.1.0 hpack-4.0.0 httpcore-1.0.1 httpx-0.25.1 hyperframe-6.0.1 langdetect-1.0.9 lz4-4.3.2 proto-plus-1.22.3 pycryptodomex-3.19.0 soupsieve-2.5\n"
     ]
    }
   ],
   "source": [
    "!pip install bardapi"
   ]
  },
  {
   "cell_type": "code",
   "execution_count": 3,
   "metadata": {},
   "outputs": [],
   "source": [
    "from bardapi import Bard\n",
    "import os"
   ]
  },
  {
   "cell_type": "code",
   "execution_count": 8,
   "metadata": {},
   "outputs": [],
   "source": [
    "token = 'cwhfpIAJNc_n6qNYbp1MC5IiSZo7odZcib-QWikQccZb-Rcg7NcHGl23OYfjztwF2w8U_g.'"
   ]
  },
  {
   "cell_type": "code",
   "execution_count": 9,
   "metadata": {},
   "outputs": [],
   "source": [
    "response = Bard(token).get_answer('Hello, tell me a joke please :)')"
   ]
  },
  {
   "cell_type": "code",
   "execution_count": 11,
   "metadata": {},
   "outputs": [
    {
     "name": "stdout",
     "output_type": "stream",
     "text": [
      "{'content': 'Sure, here is a joke:\\n\\nWhat do you call a fish with no eyes?\\n\\nFsh!\\n\\nI hope you enjoyed the joke!', 'conversation_id': 'c_dd11c49aa12af9e1', 'response_id': 'r_74123086e52192b4', 'factuality_queries': None, 'text_query': '', 'choices': [{'id': 'rc_d8d436a6e65a92d3', 'content': ['Sure, here is a joke:\\n\\nWhat do you call a fish with no eyes?\\n\\nFsh!\\n\\nI hope you enjoyed the joke!']}], 'links': [], 'images': [], 'program_lang': None, 'code': None, 'status_code': 200}\n"
     ]
    }
   ],
   "source": [
    "print(response)"
   ]
  },
  {
   "cell_type": "code",
   "execution_count": 30,
   "metadata": {},
   "outputs": [
    {
     "ename": "Exception",
     "evalue": "SNlM0e value not found. Double-check __Secure-1PSID value or pass it as token='xxxxx'.",
     "output_type": "error",
     "traceback": [
      "\u001b[0;31m---------------------------------------------------------------------------\u001b[0m",
      "\u001b[0;31mException\u001b[0m                                 Traceback (most recent call last)",
      "\u001b[1;32m/home/adam/Desktop/FIIT/DP/uServiceData-Warehouse/semantics/nn/bard_test.ipynb Cell 6\u001b[0m line \u001b[0;36m1\n\u001b[0;32m----> <a href='vscode-notebook-cell:/home/adam/Desktop/FIIT/DP/uServiceData-Warehouse/semantics/nn/bard_test.ipynb#W5sZmlsZQ%3D%3D?line=0'>1</a>\u001b[0m bard \u001b[39m=\u001b[39m Bard(token\u001b[39m=\u001b[39;49mtoken)\n",
      "File \u001b[0;32m~/.local/lib/python3.10/site-packages/bardapi/core.py:78\u001b[0m, in \u001b[0;36mBard.__init__\u001b[0;34m(self, token, timeout, proxies, session, conversation_id, google_translator_api_key, language, run_code, token_from_browser)\u001b[0m\n\u001b[1;32m     76\u001b[0m \u001b[39mself\u001b[39m\u001b[39m.\u001b[39mchoice_id \u001b[39m=\u001b[39m \u001b[39m\"\u001b[39m\u001b[39m\"\u001b[39m\n\u001b[1;32m     77\u001b[0m \u001b[39mself\u001b[39m\u001b[39m.\u001b[39msession \u001b[39m=\u001b[39m \u001b[39mself\u001b[39m\u001b[39m.\u001b[39m_get_session(session)\n\u001b[0;32m---> 78\u001b[0m \u001b[39mself\u001b[39m\u001b[39m.\u001b[39mSNlM0e \u001b[39m=\u001b[39m \u001b[39mself\u001b[39;49m\u001b[39m.\u001b[39;49m_get_snim0e()\n\u001b[1;32m     79\u001b[0m \u001b[39mself\u001b[39m\u001b[39m.\u001b[39mlanguage \u001b[39m=\u001b[39m language \u001b[39mor\u001b[39;00m os\u001b[39m.\u001b[39mgetenv(\u001b[39m\"\u001b[39m\u001b[39m_BARD_API_LANG\u001b[39m\u001b[39m\"\u001b[39m)\n\u001b[1;32m     80\u001b[0m \u001b[39mself\u001b[39m\u001b[39m.\u001b[39mrun_code \u001b[39m=\u001b[39m run_code\n",
      "File \u001b[0;32m~/.local/lib/python3.10/site-packages/bardapi/core.py:154\u001b[0m, in \u001b[0;36mBard._get_snim0e\u001b[0;34m(self)\u001b[0m\n\u001b[1;32m    152\u001b[0m snim0e \u001b[39m=\u001b[39m re\u001b[39m.\u001b[39msearch(\u001b[39mr\u001b[39m\u001b[39m\"\u001b[39m\u001b[39mSNlM0e\u001b[39m\u001b[39m\\\"\u001b[39;00m\u001b[39m:\u001b[39m\u001b[39m\\\"\u001b[39;00m\u001b[39m(.*?)\u001b[39m\u001b[39m\\\"\u001b[39;00m\u001b[39m\"\u001b[39m, resp\u001b[39m.\u001b[39mtext)\n\u001b[1;32m    153\u001b[0m \u001b[39mif\u001b[39;00m \u001b[39mnot\u001b[39;00m snim0e:\n\u001b[0;32m--> 154\u001b[0m     \u001b[39mraise\u001b[39;00m \u001b[39mException\u001b[39;00m(\n\u001b[1;32m    155\u001b[0m         \u001b[39m\"\u001b[39m\u001b[39mSNlM0e value not found. Double-check __Secure-1PSID value or pass it as token=\u001b[39m\u001b[39m'\u001b[39m\u001b[39mxxxxx\u001b[39m\u001b[39m'\u001b[39m\u001b[39m.\u001b[39m\u001b[39m\"\u001b[39m\n\u001b[1;32m    156\u001b[0m     )\n\u001b[1;32m    157\u001b[0m \u001b[39mreturn\u001b[39;00m snim0e\u001b[39m.\u001b[39mgroup(\u001b[39m1\u001b[39m)\n",
      "\u001b[0;31mException\u001b[0m: SNlM0e value not found. Double-check __Secure-1PSID value or pass it as token='xxxxx'."
     ]
    }
   ],
   "source": [
    "bard = Bard(token=token)"
   ]
  },
  {
   "cell_type": "code",
   "execution_count": 14,
   "metadata": {},
   "outputs": [
    {
     "ename": "Exception",
     "evalue": "SNlM0e value not found. Double-check __Secure-1PSID value or pass it as token='xxxxx'.",
     "output_type": "error",
     "traceback": [
      "\u001b[0;31m---------------------------------------------------------------------------\u001b[0m",
      "\u001b[0;31mException\u001b[0m                                 Traceback (most recent call last)",
      "\u001b[1;32m/home/adam/Desktop/FIIT/DP/uServiceData-Warehouse/semantics/nn/bard_test.ipynb Cell 7\u001b[0m line \u001b[0;36m1\n\u001b[0;32m----> <a href='vscode-notebook-cell:/home/adam/Desktop/FIIT/DP/uServiceData-Warehouse/semantics/nn/bard_test.ipynb#W6sZmlsZQ%3D%3D?line=0'>1</a>\u001b[0m response \u001b[39m=\u001b[39m Bard(token)\u001b[39m.\u001b[39mget_answer(\u001b[39m'\u001b[39m\u001b[39mHello, tell me a joke please :)\u001b[39m\u001b[39m'\u001b[39m)\n",
      "File \u001b[0;32m~/.local/lib/python3.10/site-packages/bardapi/core.py:78\u001b[0m, in \u001b[0;36mBard.__init__\u001b[0;34m(self, token, timeout, proxies, session, conversation_id, google_translator_api_key, language, run_code, token_from_browser)\u001b[0m\n\u001b[1;32m     76\u001b[0m \u001b[39mself\u001b[39m\u001b[39m.\u001b[39mchoice_id \u001b[39m=\u001b[39m \u001b[39m\"\u001b[39m\u001b[39m\"\u001b[39m\n\u001b[1;32m     77\u001b[0m \u001b[39mself\u001b[39m\u001b[39m.\u001b[39msession \u001b[39m=\u001b[39m \u001b[39mself\u001b[39m\u001b[39m.\u001b[39m_get_session(session)\n\u001b[0;32m---> 78\u001b[0m \u001b[39mself\u001b[39m\u001b[39m.\u001b[39mSNlM0e \u001b[39m=\u001b[39m \u001b[39mself\u001b[39;49m\u001b[39m.\u001b[39;49m_get_snim0e()\n\u001b[1;32m     79\u001b[0m \u001b[39mself\u001b[39m\u001b[39m.\u001b[39mlanguage \u001b[39m=\u001b[39m language \u001b[39mor\u001b[39;00m os\u001b[39m.\u001b[39mgetenv(\u001b[39m\"\u001b[39m\u001b[39m_BARD_API_LANG\u001b[39m\u001b[39m\"\u001b[39m)\n\u001b[1;32m     80\u001b[0m \u001b[39mself\u001b[39m\u001b[39m.\u001b[39mrun_code \u001b[39m=\u001b[39m run_code\n",
      "File \u001b[0;32m~/.local/lib/python3.10/site-packages/bardapi/core.py:154\u001b[0m, in \u001b[0;36mBard._get_snim0e\u001b[0;34m(self)\u001b[0m\n\u001b[1;32m    152\u001b[0m snim0e \u001b[39m=\u001b[39m re\u001b[39m.\u001b[39msearch(\u001b[39mr\u001b[39m\u001b[39m\"\u001b[39m\u001b[39mSNlM0e\u001b[39m\u001b[39m\\\"\u001b[39;00m\u001b[39m:\u001b[39m\u001b[39m\\\"\u001b[39;00m\u001b[39m(.*?)\u001b[39m\u001b[39m\\\"\u001b[39;00m\u001b[39m\"\u001b[39m, resp\u001b[39m.\u001b[39mtext)\n\u001b[1;32m    153\u001b[0m \u001b[39mif\u001b[39;00m \u001b[39mnot\u001b[39;00m snim0e:\n\u001b[0;32m--> 154\u001b[0m     \u001b[39mraise\u001b[39;00m \u001b[39mException\u001b[39;00m(\n\u001b[1;32m    155\u001b[0m         \u001b[39m\"\u001b[39m\u001b[39mSNlM0e value not found. Double-check __Secure-1PSID value or pass it as token=\u001b[39m\u001b[39m'\u001b[39m\u001b[39mxxxxx\u001b[39m\u001b[39m'\u001b[39m\u001b[39m.\u001b[39m\u001b[39m\"\u001b[39m\n\u001b[1;32m    156\u001b[0m     )\n\u001b[1;32m    157\u001b[0m \u001b[39mreturn\u001b[39;00m snim0e\u001b[39m.\u001b[39mgroup(\u001b[39m1\u001b[39m)\n",
      "\u001b[0;31mException\u001b[0m: SNlM0e value not found. Double-check __Secure-1PSID value or pass it as token='xxxxx'."
     ]
    }
   ],
   "source": [
    "response = Bard(token).get_answer('Hello, tell me a joke please :)')"
   ]
  },
  {
   "cell_type": "code",
   "execution_count": 15,
   "metadata": {},
   "outputs": [],
   "source": [
    "from bardapi import BardCookies"
   ]
  },
  {
   "cell_type": "code",
   "execution_count": 28,
   "metadata": {},
   "outputs": [],
   "source": [
    "cookie_dict = {\n",
    "    \"__Secure-1PSID\": 'xxxxxxxxxxxxxxxxxxxxxxxx',\n",
    "    '__Secure-1PSIDTS': 'xxx',\n",
    "    '__Secure-1PSIDCC': 'xxx',\n",
    "    '__Secure-1PAPISID': 'xxx'\n",
    "}"
   ]
  },
  {
   "cell_type": "code",
   "execution_count": 29,
   "metadata": {},
   "outputs": [
    {
     "ename": "Exception",
     "evalue": "SNlM0e value not found in response. Check __Secure-1PSID value.",
     "output_type": "error",
     "traceback": [
      "\u001b[0;31m---------------------------------------------------------------------------\u001b[0m",
      "\u001b[0;31mException\u001b[0m                                 Traceback (most recent call last)",
      "\u001b[1;32m/home/adam/Desktop/FIIT/DP/uServiceData-Warehouse/semantics/nn/bard_test.ipynb Cell 10\u001b[0m line \u001b[0;36m1\n\u001b[0;32m----> <a href='vscode-notebook-cell:/home/adam/Desktop/FIIT/DP/uServiceData-Warehouse/semantics/nn/bard_test.ipynb#X12sZmlsZQ%3D%3D?line=0'>1</a>\u001b[0m bard \u001b[39m=\u001b[39m BardCookies(cookie_dict\u001b[39m=\u001b[39;49mcookie_dict)\n",
      "File \u001b[0;32m~/.local/lib/python3.10/site-packages/bardapi/core_cookies.py:53\u001b[0m, in \u001b[0;36mBardCookies.__init__\u001b[0;34m(self, cookie_dict, timeout, proxies, session, conversation_id, google_translator_api_key, language, run_code, token_from_browser)\u001b[0m\n\u001b[1;32m     51\u001b[0m \u001b[39mself\u001b[39m\u001b[39m.\u001b[39mchoice_id \u001b[39m=\u001b[39m \u001b[39m\"\u001b[39m\u001b[39m\"\u001b[39m\n\u001b[1;32m     52\u001b[0m \u001b[39mself\u001b[39m\u001b[39m.\u001b[39msession \u001b[39m=\u001b[39m \u001b[39mself\u001b[39m\u001b[39m.\u001b[39m_get_session(session)\n\u001b[0;32m---> 53\u001b[0m \u001b[39mself\u001b[39m\u001b[39m.\u001b[39mSNlM0e \u001b[39m=\u001b[39m \u001b[39mself\u001b[39;49m\u001b[39m.\u001b[39;49m_get_snim0e()\n\u001b[1;32m     54\u001b[0m \u001b[39mself\u001b[39m\u001b[39m.\u001b[39mlanguage \u001b[39m=\u001b[39m language \u001b[39mor\u001b[39;00m os\u001b[39m.\u001b[39mgetenv(\u001b[39m\"\u001b[39m\u001b[39m_BARD_API_LANG\u001b[39m\u001b[39m\"\u001b[39m)\n\u001b[1;32m     55\u001b[0m \u001b[39mself\u001b[39m\u001b[39m.\u001b[39mrun_code \u001b[39m=\u001b[39m run_code \u001b[39mor\u001b[39;00m \u001b[39mFalse\u001b[39;00m\n",
      "File \u001b[0;32m~/.local/lib/python3.10/site-packages/bardapi/core_cookies.py:119\u001b[0m, in \u001b[0;36mBardCookies._get_snim0e\u001b[0;34m(self)\u001b[0m\n\u001b[1;32m    117\u001b[0m snim0e \u001b[39m=\u001b[39m re\u001b[39m.\u001b[39msearch(\u001b[39mr\u001b[39m\u001b[39m\"\u001b[39m\u001b[39mSNlM0e\u001b[39m\u001b[39m\\\"\u001b[39;00m\u001b[39m:\u001b[39m\u001b[39m\\\"\u001b[39;00m\u001b[39m(.*?)\u001b[39m\u001b[39m\\\"\u001b[39;00m\u001b[39m\"\u001b[39m, resp\u001b[39m.\u001b[39mtext)\n\u001b[1;32m    118\u001b[0m \u001b[39mif\u001b[39;00m \u001b[39mnot\u001b[39;00m snim0e:\n\u001b[0;32m--> 119\u001b[0m     \u001b[39mraise\u001b[39;00m \u001b[39mException\u001b[39;00m(\n\u001b[1;32m    120\u001b[0m         \u001b[39m\"\u001b[39m\u001b[39mSNlM0e value not found in response. Check __Secure-1PSID value.\u001b[39m\u001b[39m\"\u001b[39m\n\u001b[1;32m    121\u001b[0m     )\n\u001b[1;32m    122\u001b[0m \u001b[39mreturn\u001b[39;00m snim0e\u001b[39m.\u001b[39mgroup(\u001b[39m1\u001b[39m)\n",
      "\u001b[0;31mException\u001b[0m: SNlM0e value not found in response. Check __Secure-1PSID value."
     ]
    }
   ],
   "source": [
    "bard = BardCookies(cookie_dict=cookie_dict)"
   ]
  },
  {
   "cell_type": "code",
   "execution_count": 21,
   "metadata": {},
   "outputs": [
    {
     "name": "stdout",
     "output_type": "stream",
     "text": [
      "{'content': 'Sure, here is a joke:\\n\\nWhat do you call a fish with no eyes?\\n\\nFsh!\\n\\nI hope you enjoyed the joke!', 'conversation_id': 'c_a2f003176ac3f3eb', 'response_id': 'r_73568f662baeab30', 'factuality_queries': None, 'text_query': '', 'choices': [{'id': 'rc_6dc99f6774b037e9', 'content': ['Sure, here is a joke:\\n\\nWhat do you call a fish with no eyes?\\n\\nFsh!\\n\\nI hope you enjoyed the joke!']}, {'id': 'rc_bf23cd5a0b2acee6', 'content': ['Sure, here is a joke:\\n\\nWhat do you call a fish with no eyes? Fsh!\\n\\nI hope you enjoyed the joke!']}], 'links': [], 'images': [], 'program_lang': None, 'code': None, 'status_code': 200}\n"
     ]
    }
   ],
   "source": [
    "print(bard.get_answer('Tell me a joke :)'))"
   ]
  },
  {
   "cell_type": "code",
   "execution_count": 26,
   "metadata": {},
   "outputs": [
    {
     "name": "stdout",
     "output_type": "stream",
     "text": [
      "Response Error: b')]}\\'\\n\\n38\\n[[\"wrb.fr\",null,null,null,null,[7]]]\\n57\\n[[\"di\",113],[\"af.httprm\",113,\"4160108970448605967\",10]]\\n25\\n[[\"e\",4,null,null,132]]\\n'. \n",
      "Unable to get response.\n",
      "Please double-check the cookie values and verify your network environment or google account.\n"
     ]
    }
   ],
   "source": [
    "print(bard.get_answer(\"\"\"PARCELNO;SCAN_CODE;DEPOT_CODE;DEPOTNAME;EVENT_DATE_TIME;ROUTE;TOUR;PCODE;SERVICE;CONSIGNEE_COUNTRY_CODE;CONSIGNEE_ZIP;ADD_SERVICE_1;ADD_SERVICE_2;ADD_SERVICE_3;WEIGHT;CUSTOMER_REFERENCE;POD_IMAGE_REF;RECEIVER_NAME;INFO_TEXT;LOCATION;\n",
    "                      06705000225055;13;0667;Depot 0667;20210212145448;0667;715;;327;703;96651;827;;;0;BQ01543517;1402335;Dorucene cez PIN kod prijemcu;;;\n",
    "                        06705000225055;13;0667;Depot 0667;20210212145448;0667;715;;327;703;96651;827;;;0;161893191;1402335;Dorucene cez PIN kod prijemcu;;;\n",
    "                        06705000225055;13;0667;Depot 0667;20210212145448;0667;715;;327;703;96651;827;;;0;dpdportal.sk;1402335;Dorucene cez PIN kod prijemcu;;;\"\"\")['content'])"
   ]
  },
  {
   "cell_type": "code",
   "execution_count": null,
   "metadata": {},
   "outputs": [],
   "source": []
  }
 ],
 "metadata": {
  "kernelspec": {
   "display_name": "Python 3",
   "language": "python",
   "name": "python3"
  },
  "language_info": {
   "codemirror_mode": {
    "name": "ipython",
    "version": 3
   },
   "file_extension": ".py",
   "mimetype": "text/x-python",
   "name": "python",
   "nbconvert_exporter": "python",
   "pygments_lexer": "ipython3",
   "version": "3.10.12"
  }
 },
 "nbformat": 4,
 "nbformat_minor": 2
}
